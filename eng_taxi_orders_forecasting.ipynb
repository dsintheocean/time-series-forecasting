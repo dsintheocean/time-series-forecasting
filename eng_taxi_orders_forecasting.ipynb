{
  "cells": [
    {
      "cell_type": "markdown",
      "metadata": {
        "id": "gNqP0kFmDNM-"
      },
      "source": [
        "# Taxi Order Forecasting"
      ]
    },
    {
      "cell_type": "markdown",
      "metadata": {
        "id": "VXMk3OHnDNM_"
      },
      "source": [
        "**Project Description**\n",
        "\n",
        "An aggregator company has collected historical data on taxi orders at airports. To attract more drivers during peak demand periods, it is necessary to forecast the number of taxi orders for the next hour. The task is to build a model for such prediction.\n",
        "The target metric is RMSE (Root Mean Square Error), and the target value on the test dataset should not exceed 48.\n",
        "\n",
        "**Data Description**\n",
        "\n",
        "The data is located in the 'taxi.csv' file.\n",
        "The number of orders is found in the 'num_orders' column."
      ]
    },
    {
      "cell_type": "markdown",
      "metadata": {
        "id": "xws-zv4cDNNA"
      },
      "source": [
        "## Preprocessing data"
      ]
    },
    {
      "cell_type": "code",
      "execution_count": null,
      "metadata": {
        "id": "UIcExPo4DNNA"
      },
      "outputs": [],
      "source": [
        "import pandas as pd\n",
        "import numpy as np\n",
        "\n",
        "import matplotlib.pyplot as plt\n",
        "\n",
        "import time as time\n",
        "\n",
        "from sklearn.model_selection import TimeSeriesSplit\n",
        "from sklearn.model_selection import train_test_split\n",
        "from sklearn.model_selection import GridSearchCV\n",
        "from sklearn.tree import DecisionTreeRegressor\n",
        "import lightgbm as lgb\n",
        "from sklearn.dummy import DummyRegressor\n",
        "\n",
        "from sklearn.metrics import mean_squared_error\n",
        "\n",
        "from statsmodels.tsa.seasonal import seasonal_decompose"
      ]
    },
    {
      "cell_type": "markdown",
      "metadata": {
        "id": "BeIcsOBsDNNB"
      },
      "source": [
        "**Let's read the file and immediately set the date and time as the index while converting the dates and times into the required format.**\n",
        "\n",
        "**Next, we'll sort the data chronologically.**\n",
        "\n",
        "**After that, we'll perform data resampling at 1-hour intervals.**\n",
        "\n",
        "**And we'll examine the first and last values in the data, specifically their dates and times.**"
      ]
    },
    {
      "cell_type": "code",
      "execution_count": null,
      "metadata": {
        "id": "mXXvWd6zDNNB",
        "outputId": "0c037089-e44c-43af-dd3a-1538f9220992"
      },
      "outputs": [
        {
          "data": {
            "text/html": [
              "<div>\n",
              "<style scoped>\n",
              "    .dataframe tbody tr th:only-of-type {\n",
              "        vertical-align: middle;\n",
              "    }\n",
              "\n",
              "    .dataframe tbody tr th {\n",
              "        vertical-align: top;\n",
              "    }\n",
              "\n",
              "    .dataframe thead th {\n",
              "        text-align: right;\n",
              "    }\n",
              "</style>\n",
              "<table border=\"1\" class=\"dataframe\">\n",
              "  <thead>\n",
              "    <tr style=\"text-align: right;\">\n",
              "      <th></th>\n",
              "      <th>num_orders</th>\n",
              "    </tr>\n",
              "    <tr>\n",
              "      <th>datetime</th>\n",
              "      <th></th>\n",
              "    </tr>\n",
              "  </thead>\n",
              "  <tbody>\n",
              "    <tr>\n",
              "      <th>2018-03-01 00:00:00</th>\n",
              "      <td>124</td>\n",
              "    </tr>\n",
              "    <tr>\n",
              "      <th>2018-03-01 01:00:00</th>\n",
              "      <td>85</td>\n",
              "    </tr>\n",
              "    <tr>\n",
              "      <th>2018-03-01 02:00:00</th>\n",
              "      <td>71</td>\n",
              "    </tr>\n",
              "    <tr>\n",
              "      <th>2018-03-01 03:00:00</th>\n",
              "      <td>66</td>\n",
              "    </tr>\n",
              "    <tr>\n",
              "      <th>2018-03-01 04:00:00</th>\n",
              "      <td>43</td>\n",
              "    </tr>\n",
              "  </tbody>\n",
              "</table>\n",
              "</div>"
            ],
            "text/plain": [
              "                     num_orders\n",
              "datetime                       \n",
              "2018-03-01 00:00:00         124\n",
              "2018-03-01 01:00:00          85\n",
              "2018-03-01 02:00:00          71\n",
              "2018-03-01 03:00:00          66\n",
              "2018-03-01 04:00:00          43"
            ]
          },
          "metadata": {},
          "output_type": "display_data"
        },
        {
          "data": {
            "text/html": [
              "<div>\n",
              "<style scoped>\n",
              "    .dataframe tbody tr th:only-of-type {\n",
              "        vertical-align: middle;\n",
              "    }\n",
              "\n",
              "    .dataframe tbody tr th {\n",
              "        vertical-align: top;\n",
              "    }\n",
              "\n",
              "    .dataframe thead th {\n",
              "        text-align: right;\n",
              "    }\n",
              "</style>\n",
              "<table border=\"1\" class=\"dataframe\">\n",
              "  <thead>\n",
              "    <tr style=\"text-align: right;\">\n",
              "      <th></th>\n",
              "      <th>num_orders</th>\n",
              "    </tr>\n",
              "    <tr>\n",
              "      <th>datetime</th>\n",
              "      <th></th>\n",
              "    </tr>\n",
              "  </thead>\n",
              "  <tbody>\n",
              "    <tr>\n",
              "      <th>2018-08-31 19:00:00</th>\n",
              "      <td>136</td>\n",
              "    </tr>\n",
              "    <tr>\n",
              "      <th>2018-08-31 20:00:00</th>\n",
              "      <td>154</td>\n",
              "    </tr>\n",
              "    <tr>\n",
              "      <th>2018-08-31 21:00:00</th>\n",
              "      <td>159</td>\n",
              "    </tr>\n",
              "    <tr>\n",
              "      <th>2018-08-31 22:00:00</th>\n",
              "      <td>223</td>\n",
              "    </tr>\n",
              "    <tr>\n",
              "      <th>2018-08-31 23:00:00</th>\n",
              "      <td>205</td>\n",
              "    </tr>\n",
              "  </tbody>\n",
              "</table>\n",
              "</div>"
            ],
            "text/plain": [
              "                     num_orders\n",
              "datetime                       \n",
              "2018-08-31 19:00:00         136\n",
              "2018-08-31 20:00:00         154\n",
              "2018-08-31 21:00:00         159\n",
              "2018-08-31 22:00:00         223\n",
              "2018-08-31 23:00:00         205"
            ]
          },
          "execution_count": 15,
          "metadata": {},
          "output_type": "execute_result"
        }
      ],
      "source": [
        "data = pd.read_csv('/datasets/taxi.csv', index_col=[0], parse_dates=[0])\n",
        "data.sort_index(inplace=True)\n",
        "data = data.resample('1H').sum()\n",
        "display(data.head())\n",
        "data.tail()"
      ]
    },
    {
      "cell_type": "markdown",
      "metadata": {
        "id": "_gqSqbjFDNNC"
      },
      "source": [
        "**The observations start on March 1, 2018, at 00:00:00 and end on August 31 at 23:00:00.**"
      ]
    },
    {
      "cell_type": "code",
      "execution_count": null,
      "metadata": {
        "id": "15TzMe5NDNNC",
        "outputId": "47e21d67-a589-491e-94ee-b0667b9abd41"
      },
      "outputs": [
        {
          "name": "stdout",
          "output_type": "stream",
          "text": [
            "<class 'pandas.core.frame.DataFrame'>\n",
            "DatetimeIndex: 4416 entries, 2018-03-01 00:00:00 to 2018-08-31 23:00:00\n",
            "Freq: H\n",
            "Data columns (total 1 columns):\n",
            " #   Column      Non-Null Count  Dtype\n",
            "---  ------      --------------  -----\n",
            " 0   num_orders  4416 non-null   int64\n",
            "dtypes: int64(1)\n",
            "memory usage: 69.0 KB\n"
          ]
        }
      ],
      "source": [
        "data.info()"
      ]
    },
    {
      "cell_type": "markdown",
      "metadata": {
        "id": "EmzM-YC-DNNC"
      },
      "source": [
        "**Let's create a plot based on the resampled data.**"
      ]
    },
    {
      "cell_type": "code",
      "execution_count": null,
      "metadata": {
        "id": "2iZ9HOkZDNND",
        "outputId": "d2eabd72-7786-4994-f433-d523a8541cd6"
      },
      "outputs": [
        {
          "data": {
            "image/png": "[encoded data removed]",
            "text/plain": [
              "<Figure size 1080x360 with 1 Axes>"
            ]
          },
          "metadata": {
            "needs_background": "light"
          },
          "output_type": "display_data"
        }
      ],
      "source": [
        "plt.rcParams[\"figure.figsize\"] = (15, 5) #задаем размер графиков для всех последующих графиков\n",
        "data.plot();"
      ]
    },
    {
      "cell_type": "markdown",
      "metadata": {
        "id": "tzVylyp-DNND"
      },
      "source": [
        "## Exploring"
      ]
    },
    {
      "cell_type": "markdown",
      "metadata": {
        "id": "a_TkcxY0DNND"
      },
      "source": [
        "### Decomposition"
      ]
    },
    {
      "cell_type": "markdown",
      "metadata": {
        "id": "153HEW3wDNND"
      },
      "source": [
        "**The data is not very suitable for reading and analysis in its original form.**\n",
        "\n",
        "**The earliest date in our data is March 1, 2018, which fell on a Thursday (this information was found on the internet). It was also found that March 8 and 9, 2018, were weekends. To ensure objectivity, we will analyze the data for a week when there were no national holidays: March 26, 2018, to April 1, 2018.**"
      ]
    },
    {
      "cell_type": "code",
      "execution_count": null,
      "metadata": {
        "id": "jc_H3hu9DNNE",
        "outputId": "203f4a0f-c603-42ec-dd8d-4de51a0a0395"
      },
      "outputs": [
        {
          "data": {
            "image/png": "[encoded data removed]",
            "text/plain": [
              "<Figure size 1080x360 with 1 Axes>"
            ]
          },
          "metadata": {
            "needs_background": "light"
          },
          "output_type": "display_data"
        }
      ],
      "source": [
        "data['2018-03-26':'2018-04-01'].plot();"
      ]
    },
    {
      "cell_type": "markdown",
      "metadata": {
        "id": "GVdu2GF7DNNE"
      },
      "source": [
        "**The cyclic nature of the data throughout the week and during the day is noticeable but not highly apparent.**\n",
        "\n",
        "**For better analysis, we will decompose the raw data, meaning we will break down the original time series into three components: trend, seasonality, and residual. The residual is the component that cannot be explained by the trend and seasonality; it represents noise.**\n",
        "\n",
        "**Let's examine the overall trend over the entire period by smoothing the line using a 720-hour moving average (24 hours * 30 days).**"
      ]
    },
    {
      "cell_type": "code",
      "execution_count": null,
      "metadata": {
        "id": "cxIEwqt1DNNE",
        "outputId": "146ba02d-b478-437b-c8ce-a67ce64917ac"
      },
      "outputs": [
        {
          "data": {
            "image/png": "[encoded data removed]",
            "text/plain": [
              "<Figure size 1080x360 with 1 Axes>"
            ]
          },
          "metadata": {
            "needs_background": "light"
          },
          "output_type": "display_data"
        }
      ],
      "source": [
        "decomposed = seasonal_decompose(data)\n",
        "decomposed.trend.rolling(720).mean().plot();"
      ]
    },
    {
      "cell_type": "markdown",
      "metadata": {
        "id": "PAHcig32DNNF"
      },
      "source": [
        "**It's evident that there is a consistent increase in orders on average from month to month.**\n",
        "\n",
        "**Now, let's take a look at the cyclical component.**"
      ]
    },
    {
      "cell_type": "code",
      "execution_count": null,
      "metadata": {
        "id": "TreYMrqBDNNF",
        "outputId": "9b129619-a2fe-41f0-bcd5-5ac4a18a64b6"
      },
      "outputs": [
        {
          "data": {
            "image/png": "[encoded data removed]",
            "text/plain": [
              "<Figure size 1080x360 with 1 Axes>"
            ]
          },
          "metadata": {
            "needs_background": "light"
          },
          "output_type": "display_data"
        }
      ],
      "source": [
        "decomposed.seasonal['2018-03-26':'2018-04-01'].plot(); # циклическая составляющая"
      ]
    },
    {
      "cell_type": "markdown",
      "metadata": {
        "id": "g0i4LczTDNNG"
      },
      "source": [
        "**We can observe a distinctive recurring pattern from day to day. Consequently, there is cyclicality at the hourly level within each day, and a pronounced daily pattern is evident.**\n",
        "\n",
        "**Let's take a closer look at the daily patterns.**"
      ]
    },
    {
      "cell_type": "code",
      "execution_count": null,
      "metadata": {
        "id": "JFozpXB4DNNG",
        "outputId": "f86cb77f-ebfe-4026-f2d7-92890399372c"
      },
      "outputs": [
        {
          "data": {
            "image/png": "[encoded data removed]",
            "text/plain": [
              "<Figure size 1080x360 with 1 Axes>"
            ]
          },
          "metadata": {
            "needs_background": "light"
          },
          "output_type": "display_data"
        }
      ],
      "source": [
        "decomposed.seasonal['2018-03-26 00:00:00':'2018-03-27 00:00:00'].plot();"
      ]
    },
    {
      "cell_type": "markdown",
      "metadata": {
        "id": "hTRPp6BtDNNG"
      },
      "source": [
        "**Throughout the day, cyclicality is well visible - from late night until 6 in the morning, orders sharply drop to a minimum, then they begin to rise again until the start of the working day. After a slight dip until 12 o'clock, there's a growth in orders until 4 PM. Then there's another small dip until 6 PM, followed by the end of the workday and a rise in orders until the night. This pattern repeats. In other words, there is a trend that correlates with a typical working day.**\n",
        "\n",
        "**Let's see if there is weekly cyclicality. To do this, we will decompose the data resampled by 1 day and examine the cyclicality over 4 weeks when there were no national holidays.**"
      ]
    },
    {
      "cell_type": "code",
      "execution_count": null,
      "metadata": {
        "id": "2_OadrN9DNNH",
        "outputId": "4af53dee-f11c-4a11-c19f-333fe5ba479d"
      },
      "outputs": [
        {
          "data": {
            "image/png": "[encoded data removed]",
            "text/plain": [
              "<Figure size 1080x360 with 1 Axes>"
            ]
          },
          "metadata": {
            "needs_background": "light"
          },
          "output_type": "display_data"
        }
      ],
      "source": [
        "seasonal_decompose(data.resample('1D').sum()).seasonal['2018-03-19':'2018-04-15'].plot();"
      ]
    },
    {
      "cell_type": "markdown",
      "metadata": {
        "id": "JPPwhxtgDNNH"
      },
      "source": [
        "**We can see a characteristic weekly cyclicality in orders:**\n",
        "\n",
        "- A peak from Sunday night to Monday;\n",
        "- Then a decrease from the peak (Sunday night to Monday) to a minimum (Monday night to Tuesday);\n",
        "- Followed by a gradual increase from the minimum (Monday night to Tuesday) to a peak (Thursday night to Friday), with changes (reductions) in growth during Wednesday;\n",
        "- From the peak (Thursday night to Friday), there's a decline to the second lowest point (Saturday night to Sunday);\n",
        "- Then, a rise from the second lowest point (Saturday night to Sunday) to another peak (Sunday night to Monday)."
      ]
    },
    {
      "cell_type": "markdown",
      "metadata": {
        "id": "1w4D0Y1hDNNH"
      },
      "source": [
        "### Creating Additional Features"
      ]
    },
    {
      "cell_type": "markdown",
      "metadata": {
        "id": "_8uu67r3DNNH"
      },
      "source": [
        "**To make forecasts, it is necessary to create additional features:**\n",
        "\n",
        "- Calendar features (month, day, day of the week, hour);\n",
        "\n",
        "- \"Lagged values\" (lagging by different numbers of hours);\n",
        "\n",
        "- Rolling mean (calculating the rolling mean should not include the current value of the series to prevent the target feature from \"leaking\" into the features).\n",
        "\n",
        "Let's write a function that creates these additional features."
      ]
    },
    {
      "cell_type": "code",
      "execution_count": null,
      "metadata": {
        "id": "3NwIlOuiDNNI",
        "outputId": "780fa560-d989-4434-86e9-f8ffb026bda7"
      },
      "outputs": [
        {
          "data": {
            "text/html": [
              "<div>\n",
              "<style scoped>\n",
              "    .dataframe tbody tr th:only-of-type {\n",
              "        vertical-align: middle;\n",
              "    }\n",
              "\n",
              "    .dataframe tbody tr th {\n",
              "        vertical-align: top;\n",
              "    }\n",
              "\n",
              "    .dataframe thead th {\n",
              "        text-align: right;\n",
              "    }\n",
              "</style>\n",
              "<table border=\"1\" class=\"dataframe\">\n",
              "  <thead>\n",
              "    <tr style=\"text-align: right;\">\n",
              "      <th></th>\n",
              "      <th>num_orders</th>\n",
              "      <th>month</th>\n",
              "      <th>day</th>\n",
              "      <th>dayofweek</th>\n",
              "      <th>hour</th>\n",
              "      <th>lag_1</th>\n",
              "      <th>lag_2</th>\n",
              "      <th>lag_3</th>\n",
              "      <th>lag_23</th>\n",
              "      <th>lag_24</th>\n",
              "      <th>lag_25</th>\n",
              "      <th>rolling_mean</th>\n",
              "    </tr>\n",
              "    <tr>\n",
              "      <th>datetime</th>\n",
              "      <th></th>\n",
              "      <th></th>\n",
              "      <th></th>\n",
              "      <th></th>\n",
              "      <th></th>\n",
              "      <th></th>\n",
              "      <th></th>\n",
              "      <th></th>\n",
              "      <th></th>\n",
              "      <th></th>\n",
              "      <th></th>\n",
              "      <th></th>\n",
              "    </tr>\n",
              "  </thead>\n",
              "  <tbody>\n",
              "    <tr>\n",
              "      <th>2018-03-02 01:00:00</th>\n",
              "      <td>120</td>\n",
              "      <td>3</td>\n",
              "      <td>2</td>\n",
              "      <td>4</td>\n",
              "      <td>1</td>\n",
              "      <td>90.0</td>\n",
              "      <td>58.0</td>\n",
              "      <td>113.0</td>\n",
              "      <td>71.0</td>\n",
              "      <td>85.0</td>\n",
              "      <td>124.0</td>\n",
              "      <td>55.416667</td>\n",
              "    </tr>\n",
              "    <tr>\n",
              "      <th>2018-03-02 02:00:00</th>\n",
              "      <td>75</td>\n",
              "      <td>3</td>\n",
              "      <td>2</td>\n",
              "      <td>4</td>\n",
              "      <td>2</td>\n",
              "      <td>120.0</td>\n",
              "      <td>90.0</td>\n",
              "      <td>58.0</td>\n",
              "      <td>66.0</td>\n",
              "      <td>71.0</td>\n",
              "      <td>85.0</td>\n",
              "      <td>56.875000</td>\n",
              "    </tr>\n",
              "    <tr>\n",
              "      <th>2018-03-02 03:00:00</th>\n",
              "      <td>64</td>\n",
              "      <td>3</td>\n",
              "      <td>2</td>\n",
              "      <td>4</td>\n",
              "      <td>3</td>\n",
              "      <td>75.0</td>\n",
              "      <td>120.0</td>\n",
              "      <td>90.0</td>\n",
              "      <td>43.0</td>\n",
              "      <td>66.0</td>\n",
              "      <td>71.0</td>\n",
              "      <td>57.041667</td>\n",
              "    </tr>\n",
              "    <tr>\n",
              "      <th>2018-03-02 04:00:00</th>\n",
              "      <td>20</td>\n",
              "      <td>3</td>\n",
              "      <td>2</td>\n",
              "      <td>4</td>\n",
              "      <td>4</td>\n",
              "      <td>64.0</td>\n",
              "      <td>75.0</td>\n",
              "      <td>120.0</td>\n",
              "      <td>6.0</td>\n",
              "      <td>43.0</td>\n",
              "      <td>66.0</td>\n",
              "      <td>56.958333</td>\n",
              "    </tr>\n",
              "    <tr>\n",
              "      <th>2018-03-02 05:00:00</th>\n",
              "      <td>11</td>\n",
              "      <td>3</td>\n",
              "      <td>2</td>\n",
              "      <td>4</td>\n",
              "      <td>5</td>\n",
              "      <td>20.0</td>\n",
              "      <td>64.0</td>\n",
              "      <td>75.0</td>\n",
              "      <td>12.0</td>\n",
              "      <td>6.0</td>\n",
              "      <td>43.0</td>\n",
              "      <td>56.000000</td>\n",
              "    </tr>\n",
              "  </tbody>\n",
              "</table>\n",
              "</div>"
            ],
            "text/plain": [
              "                     num_orders  month  day  dayofweek  hour  lag_1  lag_2  \\\n",
              "datetime                                                                     \n",
              "2018-03-02 01:00:00         120      3    2          4     1   90.0   58.0   \n",
              "2018-03-02 02:00:00          75      3    2          4     2  120.0   90.0   \n",
              "2018-03-02 03:00:00          64      3    2          4     3   75.0  120.0   \n",
              "2018-03-02 04:00:00          20      3    2          4     4   64.0   75.0   \n",
              "2018-03-02 05:00:00          11      3    2          4     5   20.0   64.0   \n",
              "\n",
              "                     lag_3  lag_23  lag_24  lag_25  rolling_mean  \n",
              "datetime                                                          \n",
              "2018-03-02 01:00:00  113.0    71.0    85.0   124.0     55.416667  \n",
              "2018-03-02 02:00:00   58.0    66.0    71.0    85.0     56.875000  \n",
              "2018-03-02 03:00:00   90.0    43.0    66.0    71.0     57.041667  \n",
              "2018-03-02 04:00:00  120.0     6.0    43.0    66.0     56.958333  \n",
              "2018-03-02 05:00:00   75.0    12.0     6.0    43.0     56.000000  "
            ]
          },
          "execution_count": 23,
          "metadata": {},
          "output_type": "execute_result"
        }
      ],
      "source": [
        "def make_features(data, lags_list, rolling_mean_size): #max_lag - макс. размер отставания\n",
        "    data['month'] = data.index.month\n",
        "    data['day'] = data.index.day\n",
        "    data['dayofweek'] = data.index.dayofweek\n",
        "    data['hour'] = data.index.hour\n",
        "\n",
        "    for lag in lags_list:\n",
        "        data[f'lag_{lag}'] = data['num_orders'].shift(lag)\n",
        "    data['rolling_mean'] = data['num_orders'].rolling(rolling_mean_size, closed='left').mean()\n",
        "\n",
        "make_features(data, [1,2,3,23,24,25], 24) #rolling_mean_size = 24, т.к. это имеем дело с числом заказов такси\n",
        "data = data.dropna() #удалим пропуски, которые получаются в следствие создания лагов (пред. период недоступен)\n",
        "data.head()"
      ]
    },
    {
      "cell_type": "code",
      "execution_count": null,
      "metadata": {
        "id": "dioMWuP6DNNI",
        "outputId": "1280f973-19e3-470d-90db-d468b4b5c129"
      },
      "outputs": [
        {
          "name": "stdout",
          "output_type": "stream",
          "text": [
            "hour_min_value =  0\n",
            "hour_max_value =  23\n"
          ]
        }
      ],
      "source": [
        "print('hour_min_value = ', data['hour'].min())\n",
        "print('hour_max_value = ', data['hour'].max())"
      ]
    },
    {
      "cell_type": "code",
      "execution_count": null,
      "metadata": {
        "id": "G53Xn8gADNNI",
        "outputId": "053b5a75-f554-4721-d3cf-6c4342c928ab"
      },
      "outputs": [
        {
          "name": "stdout",
          "output_type": "stream",
          "text": [
            "day_min_value =  1\n",
            "day_max_value =  31\n"
          ]
        }
      ],
      "source": [
        "print('day_min_value = ', data['day'].min())\n",
        "print('day_max_value = ', data['day'].max())"
      ]
    },
    {
      "cell_type": "code",
      "execution_count": null,
      "metadata": {
        "id": "yF8wlnMiDNNI",
        "outputId": "d48797f7-a3a2-457c-b010-faa4aa1ec181"
      },
      "outputs": [
        {
          "name": "stdout",
          "output_type": "stream",
          "text": [
            "dayofweek_min_value =  0\n",
            "dayofweek_max_value =  6\n"
          ]
        }
      ],
      "source": [
        "print('dayofweek_min_value = ', data['dayofweek'].min())\n",
        "print('dayofweek_max_value = ', data['dayofweek'].max())"
      ]
    },
    {
      "cell_type": "code",
      "execution_count": null,
      "metadata": {
        "id": "dVEaQtkSDNNJ",
        "outputId": "1cf29b16-fd6f-4b2f-d64d-15786497c877"
      },
      "outputs": [
        {
          "name": "stdout",
          "output_type": "stream",
          "text": [
            "month_min_value =  3\n",
            "month_max_value =  8\n"
          ]
        }
      ],
      "source": [
        "print('month_min_value = ', data['month'].min())\n",
        "print('month_max_value = ', data['month'].max())"
      ]
    },
    {
      "cell_type": "markdown",
      "metadata": {
        "id": "XT6VRGUrDNNJ"
      },
      "source": [
        "## Training"
      ]
    },
    {
      "cell_type": "markdown",
      "metadata": {
        "id": "2BfZM45kDNNJ"
      },
      "source": [
        "### Data Splitting"
      ]
    },
    {
      "cell_type": "markdown",
      "metadata": {
        "id": "xhogsKZ5DNNJ"
      },
      "source": [
        "**We will split our original dataset into training and testing sets. We won't create a separate validation set since we will use GridSearchCV with cross-validation. Since we are dealing with time series, the data split will be performed without shuffling. In GridSearchCV, we will split into folds using TimeSeriesSplit.**\n",
        "\n",
        "**We will use two models - decision tree regression and LightGBM with different hyperparameters.**\n",
        "\n",
        "**As our data includes categorical features, we need to encode them for use with simple models. We will use cyclic encoding through sine and cosine functions, as found on the internet. Since day, hour, month, and date cycle cyclically, we will encode them accordingly. For LightGBM, there is no need to encode features separately.**"
      ]
    },
    {
      "cell_type": "code",
      "execution_count": null,
      "metadata": {
        "id": "K3TnvoCUDNNJ",
        "outputId": "0289b587-9895-4127-88bb-fef06afc62db"
      },
      "outputs": [
        {
          "name": "stdout",
          "output_type": "stream",
          "text": [
            "<class 'pandas.core.frame.DataFrame'>\n",
            "DatetimeIndex: 4391 entries, 2018-03-02 01:00:00 to 2018-08-31 23:00:00\n",
            "Freq: H\n",
            "Data columns (total 15 columns):\n",
            " #   Column         Non-Null Count  Dtype  \n",
            "---  ------         --------------  -----  \n",
            " 0   lag_1          4391 non-null   float64\n",
            " 1   lag_2          4391 non-null   float64\n",
            " 2   lag_3          4391 non-null   float64\n",
            " 3   lag_23         4391 non-null   float64\n",
            " 4   lag_24         4391 non-null   float64\n",
            " 5   lag_25         4391 non-null   float64\n",
            " 6   rolling_mean   4391 non-null   float64\n",
            " 7   month_sin      4391 non-null   float64\n",
            " 8   month_cos      4391 non-null   float64\n",
            " 9   day_sin        4391 non-null   float64\n",
            " 10  day_cos        4391 non-null   float64\n",
            " 11  dayofweek_sin  4391 non-null   float64\n",
            " 12  dayofweek_cos  4391 non-null   float64\n",
            " 13  hour_sin       4391 non-null   float64\n",
            " 14  hour_cos       4391 non-null   float64\n",
            "dtypes: float64(15)\n",
            "memory usage: 548.9 KB\n"
          ]
        },
        {
          "data": {
            "text/plain": [
              "None"
            ]
          },
          "metadata": {},
          "output_type": "display_data"
        },
        {
          "data": {
            "text/plain": [
              "(4391,)"
            ]
          },
          "execution_count": 61,
          "metadata": {},
          "output_type": "execute_result"
        }
      ],
      "source": [
        "#function that encodes cyclic features\n",
        "def encode(data, col, max_val):\n",
        "    data[col + '_sin'] = np.sin(2 * np.pi * data[col]/max_val)\n",
        "    data[col + '_cos'] = np.cos(2 * np.pi * data[col]/max_val)\n",
        "    return data\n",
        "\n",
        "#encode the feature related to the month.\n",
        "data = encode(data, 'month', 12)\n",
        "\n",
        "#encode the feature related to the day of the month\n",
        "data = encode(data, 'day', 31)\n",
        "\n",
        "#encode the feature related to the day of the week.\n",
        "data = encode(data, 'dayofweek', 7)\n",
        "\n",
        "#encode the feature related to the hour.\n",
        "data = encode(data, 'hour', 24)\n",
        "\n",
        "#split the original dataset into features and the target feature\n",
        "target = data['num_orders']\n",
        "features = data.drop(['num_orders', 'month', 'day', 'dayofweek', 'hour'], axis=1)\n",
        "\n",
        "display(features.info())\n",
        "target.shape"
      ]
    },
    {
      "cell_type": "code",
      "execution_count": null,
      "metadata": {
        "id": "VqlxULn_DNNJ",
        "outputId": "ed7bce2c-7d3c-4926-ca84-287f69aced85"
      },
      "outputs": [
        {
          "name": "stdout",
          "output_type": "stream",
          "text": [
            "(3951, 15)\n",
            "(440, 15)\n",
            "(3951,)\n",
            "(440,)\n"
          ]
        }
      ],
      "source": [
        "#split the features and target features into training and testing sets with a 90/10 ratio.\n",
        "features_train, features_test, target_train, target_test = train_test_split(\n",
        "    features, target, shuffle=False, test_size=0.1, random_state=1)\n",
        "\n",
        "#After encoding, all features are numeric, so no additional actions are required for the datasets to be used with tree-based models.\n",
        "\n",
        "#Time series split for use in GridSearchCV\n",
        "tcv = TimeSeriesSplit(n_splits=5)\n",
        "\n",
        "print(features_train.shape)\n",
        "print(features_test.shape)\n",
        "print(target_train.shape)\n",
        "print(target_test.shape)"
      ]
    },
    {
      "cell_type": "code",
      "execution_count": null,
      "metadata": {
        "id": "c_MZzmSdDNNJ",
        "outputId": "59fc3b0d-6699-4963-91b5-42b4ae0658bf"
      },
      "outputs": [
        {
          "name": "stdout",
          "output_type": "stream",
          "text": [
            "Лучшее значение метрики RMSE для модели DecTreeReg на тренировочной выборке = 28.445\n",
            "Время обучения модели DecTreeReg с лучшим score на тренировочной выборке = 0.008\n"
          ]
        }
      ],
      "source": [
        "model_tree = DecisionTreeRegressor(random_state=1)\n",
        "\n",
        "param_tree = {'max_depth':range(1,10,2),\n",
        "              'criterion':['friedman_mse'],\n",
        "              'min_samples_split':range(2,10,2),\n",
        "              'max_depth': range(1,10,2)}\n",
        "gridsearch_tree = GridSearchCV(\n",
        "    estimator=model_tree,\n",
        "    param_grid=param_tree,\n",
        "    scoring='neg_root_mean_squared_error',\n",
        "    cv=tcv,\n",
        "    n_jobs=-1)\n",
        "gridsearch_tree.fit(features_train, target_train)\n",
        "#The metric in GridSearchCV is negative RMSE, so to obtain RMSE, we need to multiply it by -1.\n",
        "\n",
        "tree_rmse_train = round((-1 * gridsearch_tree.best_score_), 3)\n",
        "tree_fit_time_train = round(\n",
        "    pd.DataFrame(gridsearch_tree.cv_results_).iloc[gridsearch_tree.best_index_]['mean_fit_time'], 3)\n",
        "print('The best RMSE value for the DecTreeReg model on the training set is =', tree_rmse_train)\n",
        "print('The training time for the DecTreeReg model with the best score on the training set is =', tree_fit_time_train)"
      ]
    },
    {
      "cell_type": "code",
      "execution_count": null,
      "metadata": {
        "id": "ZGKiMYcEDNNK",
        "outputId": "23d76a7a-6610-419e-aaea-eaaa30bcef55"
      },
      "outputs": [
        {
          "name": "stdout",
          "output_type": "stream",
          "text": [
            "Лучшее значение метрики RMSE для модели LGBM на тренировочной выборке = 24.694\n",
            "Время обучения модели LGBM с лучшим score на тренировочной выборке = 0.738\n"
          ]
        }
      ],
      "source": [
        "model_lgb = lgb.LGBMRegressor(random_state=1)\n",
        "\n",
        "param_lgb = {'learning_rate': [0.1, 0.05, 0.01],\n",
        "             'n_estimators': [50, 100, 200]}\n",
        "gridsearch_lgb = GridSearchCV(\n",
        "    estimator=model_lgb,\n",
        "    param_grid=param_lgb,\n",
        "    scoring='neg_root_mean_squared_error',\n",
        "    cv=tcv,\n",
        "    n_jobs=-1)\n",
        "gridsearch_lgb.fit(features_train, target_train)\n",
        "#метрика в gridsearchCV - отрицательное значение RMSE, чтобы получить RMSE необходимо умножить на -1\n",
        "\n",
        "lgb_rmse_train = round(-1 * gridsearch_lgb.best_score_, 3)\n",
        "lgb_fit_time_train = round(\n",
        "    pd.DataFrame(gridsearch_lgb.cv_results_).iloc[gridsearch_lgb.best_index_]['mean_fit_time'], 3)\n",
        "print('The best RMSE value for the LGBM model on the training set is =', lgb_rmse_train)\n",
        "print('The training time for the LGBM model with the best score on the training set is ', lgb_fit_time_train)"
      ]
    },
    {
      "cell_type": "markdown",
      "metadata": {
        "id": "Kca_yitIDNNK"
      },
      "source": [
        "## Testing"
      ]
    },
    {
      "cell_type": "markdown",
      "metadata": {
        "id": "vL3T4J91DNNK"
      },
      "source": [
        "**The best RMSE value was achieved by the LGBM model, while the decision tree regression model showed the best training time.**\n",
        "\n",
        "**Now, let's test the best-performing model, LGBM, on the test dataset.**"
      ]
    },
    {
      "cell_type": "code",
      "execution_count": null,
      "metadata": {
        "id": "5DfH7A92DNNK",
        "outputId": "52eb668c-fece-45bc-b6ad-6c996d2efa77"
      },
      "outputs": [
        {
          "name": "stdout",
          "output_type": "stream",
          "text": [
            "RMSE для LGBM на тестовой выборке = 41.903\n",
            "Время предсказания LGBM на тестовой выборке = 0.009\n"
          ]
        }
      ],
      "source": [
        "start_predict_lgb = time.time()\n",
        "predict_lgb = gridsearch_lgb.best_estimator_.predict(features_test)\n",
        "end_predict_lgb = time.time()\n",
        "print('RMSE for LGBM on the test set is =',\n",
        "          round(mean_squared_error(target_test, predict_lgb, squared=False),3))\n",
        "print('he prediction time of LGBM on the test dataset is =',\n",
        "          round(end_predict_lgb - start_predict_lgb, 3))"
      ]
    },
    {
      "cell_type": "markdown",
      "metadata": {
        "id": "UjhB-Iu3DNNL"
      },
      "source": [
        "## Model Adequacy Check"
      ]
    },
    {
      "cell_type": "markdown",
      "metadata": {
        "id": "-3U7F53ZDNNL"
      },
      "source": [
        "**We will check the selected models for adequacy using the Dummy Model from the sklearn class, after importing it in the first step.**\n",
        "\n",
        "**The check involves ensuring that the quality of the trained model selected above is better than the quality of the Dummy model, which makes predictions without relying on the features of the training set.**"
      ]
    },
    {
      "cell_type": "code",
      "execution_count": null,
      "metadata": {
        "id": "PDN4q-cnDNNL",
        "outputId": "824dcc96-00ae-4117-8838-8e5d3c5039cc"
      },
      "outputs": [
        {
          "name": "stdout",
          "output_type": "stream",
          "text": [
            "Лучшее значение метрики RMSE для Dummy-модели на тренировочной выборке = 40.54\n"
          ]
        }
      ],
      "source": [
        "model_dummy = DummyRegressor()\n",
        "parameters_dummy = {'strategy':['mean', 'median', 'constant'],\n",
        "                            'constant':(0,300,10)}\n",
        "gridsearch_dummy = GridSearchCV(\n",
        "    estimator=model_dummy,\n",
        "    param_grid=parameters_dummy,\n",
        "    scoring='neg_root_mean_squared_error',\n",
        "    cv=tcv,\n",
        "    n_jobs=-1)\n",
        "gridsearch_dummy.fit(features_train, target_train)\n",
        "print('The best RMSE value for the Dummy model on the training set is =',\n",
        "      round((-1 * gridsearch_dummy.best_score_), 3))"
      ]
    },
    {
      "cell_type": "code",
      "execution_count": null,
      "metadata": {
        "id": "lg7ca0JhDNNL",
        "outputId": "57b41d30-1f0f-4479-c8c1-5845b195efe6"
      },
      "outputs": [
        {
          "name": "stdout",
          "output_type": "stream",
          "text": [
            "Лучшее значение метрики RMSE для Dummy-модели на тестовой выборке = 84.69\n"
          ]
        }
      ],
      "source": [
        "predict_dummy = gridsearch_dummy.best_estimator_.predict(features_test)\n",
        "print('The best RMSE value for the Dummy model on the test set is =',\n",
        "      round(mean_squared_error(target_test, predict_dummy, squared=False), 3))"
      ]
    },
    {
      "cell_type": "markdown",
      "metadata": {
        "id": "cJElAmhTDNNL"
      },
      "source": [
        "**CONCLUSION**\n",
        "\n",
        "**In the end, the Dummy model was able to achieve the best model quality with an RMSE of 84.69 on the test dataset, which is significantly lower than the best results of the selected and trained decision tree regression and LightGBM models. This demonstrates the adequacy of the model we have found and chosen.**"
      ]
    },
    {
      "cell_type": "markdown",
      "metadata": {
        "id": "6rv2gdH-DNNL"
      },
      "source": [
        "## General Conclusion"
      ]
    },
    {
      "cell_type": "markdown",
      "metadata": {
        "id": "H_SJEmg8DNNM"
      },
      "source": [
        "**We examined a time series from March to August 2018 with information about the number of taxi orders made. We discovered patterns in the data related to cyclicality. We tested several models for the task of forecasting the number of taxi orders for the next hour.**\n",
        "\n",
        "**Out of the two models we selected (decision tree regression and LightGBM), the second model, LGBM, performed better in this task in terms of the RMSE metric. Using the LightGBM model, we achieved an RMSE value of 41.903 on the test dataset, which satisfies the initial requirement to obtain an RMSE value below 48.**"
      ]
    }
  ],
  "metadata": {
    "ExecuteTimeLog": [
      {
        "duration": 2046,
        "start_time": "2023-03-27T14:17:06.356Z"
      },
      {
        "duration": 372,
        "start_time": "2023-03-27T14:21:35.109Z"
      },
      {
        "duration": 69,
        "start_time": "2023-03-27T14:23:03.158Z"
      },
      {
        "duration": 76,
        "start_time": "2023-03-27T14:23:10.480Z"
      },
      {
        "duration": 52,
        "start_time": "2023-03-27T14:23:36.929Z"
      },
      {
        "duration": 62,
        "start_time": "2023-03-27T14:23:43.314Z"
      },
      {
        "duration": 56,
        "start_time": "2023-03-27T14:25:35.710Z"
      },
      {
        "duration": 994,
        "start_time": "2023-03-27T14:25:43.914Z"
      },
      {
        "duration": 230,
        "start_time": "2023-03-27T14:26:09.563Z"
      },
      {
        "duration": 108,
        "start_time": "2023-03-27T14:26:42.981Z"
      },
      {
        "duration": 1479,
        "start_time": "2023-03-27T15:38:54.045Z"
      },
      {
        "duration": 59,
        "start_time": "2023-03-27T15:38:56.685Z"
      },
      {
        "duration": 59,
        "start_time": "2023-03-27T15:41:07.677Z"
      },
      {
        "duration": 244,
        "start_time": "2023-03-27T15:41:49.945Z"
      },
      {
        "duration": 312,
        "start_time": "2023-03-27T15:42:01.494Z"
      },
      {
        "duration": 266,
        "start_time": "2023-03-27T15:43:44.800Z"
      },
      {
        "duration": 257,
        "start_time": "2023-03-27T15:43:49.038Z"
      },
      {
        "duration": 272,
        "start_time": "2023-03-27T15:45:04.888Z"
      },
      {
        "duration": 296,
        "start_time": "2023-03-27T15:46:01.730Z"
      },
      {
        "duration": 232,
        "start_time": "2023-03-27T15:46:09.706Z"
      },
      {
        "duration": 216,
        "start_time": "2023-03-27T15:46:23.923Z"
      },
      {
        "duration": 1604,
        "start_time": "2023-03-27T20:24:29.239Z"
      },
      {
        "duration": 149,
        "start_time": "2023-03-27T20:24:32.996Z"
      },
      {
        "duration": 54,
        "start_time": "2023-03-27T20:24:54.197Z"
      },
      {
        "duration": 12,
        "start_time": "2023-03-27T20:25:01.125Z"
      },
      {
        "duration": 208,
        "start_time": "2023-03-27T20:26:10.770Z"
      },
      {
        "duration": 7,
        "start_time": "2023-03-27T20:26:38.110Z"
      },
      {
        "duration": 314,
        "start_time": "2023-03-27T20:26:42.695Z"
      },
      {
        "duration": 6,
        "start_time": "2023-03-27T20:26:50.625Z"
      },
      {
        "duration": 4,
        "start_time": "2023-03-27T20:26:54.074Z"
      },
      {
        "duration": 201,
        "start_time": "2023-03-27T20:27:05.210Z"
      },
      {
        "duration": 202,
        "start_time": "2023-03-27T20:27:08.991Z"
      },
      {
        "duration": 197,
        "start_time": "2023-03-27T20:27:11.804Z"
      },
      {
        "duration": 315,
        "start_time": "2023-03-27T20:29:00.768Z"
      },
      {
        "duration": 5,
        "start_time": "2023-03-27T20:33:39.440Z"
      },
      {
        "duration": 1499,
        "start_time": "2023-03-28T05:05:38.622Z"
      },
      {
        "duration": 214,
        "start_time": "2023-03-28T05:05:44.132Z"
      },
      {
        "duration": 10,
        "start_time": "2023-03-28T05:05:46.956Z"
      },
      {
        "duration": 234,
        "start_time": "2023-03-28T05:05:50.925Z"
      },
      {
        "duration": 263,
        "start_time": "2023-03-28T05:05:54.090Z"
      },
      {
        "duration": 185,
        "start_time": "2023-03-28T05:05:57.024Z"
      },
      {
        "duration": 194,
        "start_time": "2023-03-28T05:06:45.254Z"
      },
      {
        "duration": 185,
        "start_time": "2023-03-28T05:07:15.964Z"
      },
      {
        "duration": 212,
        "start_time": "2023-03-28T05:07:30.190Z"
      },
      {
        "duration": 167,
        "start_time": "2023-03-28T05:07:34.819Z"
      },
      {
        "duration": 285,
        "start_time": "2023-03-28T05:08:05.456Z"
      },
      {
        "duration": 230,
        "start_time": "2023-03-28T05:08:27.470Z"
      },
      {
        "duration": 132,
        "start_time": "2023-03-28T05:10:37.065Z"
      },
      {
        "duration": 200,
        "start_time": "2023-03-28T05:12:35.643Z"
      },
      {
        "duration": 246,
        "start_time": "2023-03-28T05:12:44.511Z"
      },
      {
        "duration": 218,
        "start_time": "2023-03-28T05:12:48.572Z"
      },
      {
        "duration": 289,
        "start_time": "2023-03-28T05:12:56.428Z"
      },
      {
        "duration": 55,
        "start_time": "2023-03-28T05:13:23.530Z"
      },
      {
        "duration": 7,
        "start_time": "2023-03-28T05:15:29.924Z"
      },
      {
        "duration": 179,
        "start_time": "2023-03-28T05:15:35.169Z"
      },
      {
        "duration": 164,
        "start_time": "2023-03-28T05:15:49.193Z"
      },
      {
        "duration": 172,
        "start_time": "2023-03-28T05:20:42.689Z"
      },
      {
        "duration": 212,
        "start_time": "2023-03-28T05:22:09.882Z"
      },
      {
        "duration": 171,
        "start_time": "2023-03-28T05:26:44.218Z"
      },
      {
        "duration": 184,
        "start_time": "2023-03-28T05:27:04.254Z"
      },
      {
        "duration": 195,
        "start_time": "2023-03-28T05:29:45.886Z"
      },
      {
        "duration": 196,
        "start_time": "2023-03-28T05:30:14.674Z"
      },
      {
        "duration": 231,
        "start_time": "2023-03-28T05:30:58.263Z"
      },
      {
        "duration": 172,
        "start_time": "2023-03-28T05:33:55.340Z"
      },
      {
        "duration": 153,
        "start_time": "2023-03-28T05:34:22.533Z"
      },
      {
        "duration": 19,
        "start_time": "2023-03-28T05:34:38.494Z"
      },
      {
        "duration": 186,
        "start_time": "2023-03-28T05:35:29.190Z"
      },
      {
        "duration": 9,
        "start_time": "2023-03-28T05:35:46.363Z"
      },
      {
        "duration": 13,
        "start_time": "2023-03-28T05:36:00.835Z"
      },
      {
        "duration": 13,
        "start_time": "2023-03-28T05:36:13.107Z"
      },
      {
        "duration": 253,
        "start_time": "2023-03-28T05:36:25.277Z"
      },
      {
        "duration": 186,
        "start_time": "2023-03-28T05:36:50.399Z"
      },
      {
        "duration": 139,
        "start_time": "2023-03-28T05:39:22.848Z"
      },
      {
        "duration": 137,
        "start_time": "2023-03-28T05:40:07.978Z"
      },
      {
        "duration": 237,
        "start_time": "2023-03-28T05:59:31.075Z"
      },
      {
        "duration": 154,
        "start_time": "2023-03-28T06:00:31.329Z"
      },
      {
        "duration": 195,
        "start_time": "2023-03-28T06:02:41.696Z"
      },
      {
        "duration": 228,
        "start_time": "2023-03-28T06:16:54.055Z"
      },
      {
        "duration": 12,
        "start_time": "2023-03-28T06:17:21.835Z"
      },
      {
        "duration": 252,
        "start_time": "2023-03-28T06:17:32.275Z"
      },
      {
        "duration": 7,
        "start_time": "2023-03-28T06:18:30.048Z"
      },
      {
        "duration": 10,
        "start_time": "2023-03-28T06:19:27.570Z"
      },
      {
        "duration": 163,
        "start_time": "2023-03-28T06:20:03.271Z"
      },
      {
        "duration": 363,
        "start_time": "2023-03-28T06:20:27.538Z"
      },
      {
        "duration": 199,
        "start_time": "2023-03-28T06:20:49.667Z"
      },
      {
        "duration": 256,
        "start_time": "2023-03-28T06:21:33.870Z"
      },
      {
        "duration": 191,
        "start_time": "2023-03-28T06:22:52.767Z"
      },
      {
        "duration": 197,
        "start_time": "2023-03-28T06:24:22.872Z"
      },
      {
        "duration": 276,
        "start_time": "2023-03-28T06:24:27.430Z"
      },
      {
        "duration": 225,
        "start_time": "2023-03-28T06:29:59.035Z"
      },
      {
        "duration": 155,
        "start_time": "2023-03-28T06:30:06.355Z"
      },
      {
        "duration": 144,
        "start_time": "2023-03-28T06:30:08.751Z"
      },
      {
        "duration": 162,
        "start_time": "2023-03-28T07:01:54.752Z"
      },
      {
        "duration": 180,
        "start_time": "2023-03-28T07:02:22.291Z"
      },
      {
        "duration": 145,
        "start_time": "2023-03-28T07:03:48.464Z"
      },
      {
        "duration": 1590,
        "start_time": "2023-03-28T09:12:36.029Z"
      },
      {
        "duration": 131,
        "start_time": "2023-03-28T09:27:52.283Z"
      },
      {
        "duration": 4,
        "start_time": "2023-03-28T09:28:12.889Z"
      },
      {
        "duration": 139,
        "start_time": "2023-03-28T09:28:12.895Z"
      },
      {
        "duration": 8,
        "start_time": "2023-03-28T09:28:13.036Z"
      },
      {
        "duration": 227,
        "start_time": "2023-03-28T09:28:13.046Z"
      },
      {
        "duration": 154,
        "start_time": "2023-03-28T09:28:13.275Z"
      },
      {
        "duration": 242,
        "start_time": "2023-03-28T09:28:13.431Z"
      },
      {
        "duration": 143,
        "start_time": "2023-03-28T09:28:13.674Z"
      },
      {
        "duration": 144,
        "start_time": "2023-03-28T09:28:13.818Z"
      },
      {
        "duration": 216,
        "start_time": "2023-03-28T09:28:13.964Z"
      },
      {
        "duration": 19,
        "start_time": "2023-03-28T09:28:18.949Z"
      },
      {
        "duration": 18,
        "start_time": "2023-03-28T09:35:38.848Z"
      },
      {
        "duration": 3,
        "start_time": "2023-03-28T09:36:06.373Z"
      },
      {
        "duration": 84,
        "start_time": "2023-03-28T09:36:06.377Z"
      },
      {
        "duration": 9,
        "start_time": "2023-03-28T09:36:06.463Z"
      },
      {
        "duration": 228,
        "start_time": "2023-03-28T09:36:06.474Z"
      },
      {
        "duration": 159,
        "start_time": "2023-03-28T09:36:06.704Z"
      },
      {
        "duration": 191,
        "start_time": "2023-03-28T09:36:06.865Z"
      },
      {
        "duration": 144,
        "start_time": "2023-03-28T09:36:07.057Z"
      },
      {
        "duration": 147,
        "start_time": "2023-03-28T09:36:07.203Z"
      },
      {
        "duration": 203,
        "start_time": "2023-03-28T09:36:07.352Z"
      },
      {
        "duration": 22,
        "start_time": "2023-03-28T09:36:12.004Z"
      },
      {
        "duration": 10,
        "start_time": "2023-03-28T09:48:42.289Z"
      },
      {
        "duration": 4,
        "start_time": "2023-03-28T09:49:12.993Z"
      },
      {
        "duration": 8,
        "start_time": "2023-03-28T09:49:19.383Z"
      },
      {
        "duration": 7,
        "start_time": "2023-03-28T09:49:25.181Z"
      },
      {
        "duration": 4,
        "start_time": "2023-03-28T10:37:45.372Z"
      },
      {
        "duration": 7,
        "start_time": "2023-03-28T10:38:30.321Z"
      },
      {
        "duration": 5,
        "start_time": "2023-03-28T10:38:33.371Z"
      },
      {
        "duration": 5,
        "start_time": "2023-03-28T10:39:03.169Z"
      },
      {
        "duration": 6,
        "start_time": "2023-03-28T10:39:36.769Z"
      },
      {
        "duration": 74,
        "start_time": "2023-03-28T10:41:22.778Z"
      },
      {
        "duration": 5,
        "start_time": "2023-03-28T10:46:22.753Z"
      },
      {
        "duration": 102,
        "start_time": "2023-03-28T10:46:50.049Z"
      },
      {
        "duration": 3,
        "start_time": "2023-03-28T10:47:00.183Z"
      },
      {
        "duration": 3,
        "start_time": "2023-03-28T10:47:22.252Z"
      },
      {
        "duration": 5,
        "start_time": "2023-03-28T10:47:41.040Z"
      },
      {
        "duration": 4,
        "start_time": "2023-03-28T10:48:11.584Z"
      },
      {
        "duration": 4,
        "start_time": "2023-03-28T10:48:38.070Z"
      },
      {
        "duration": 3,
        "start_time": "2023-03-28T10:49:04.803Z"
      },
      {
        "duration": 25,
        "start_time": "2023-03-28T11:21:25.569Z"
      },
      {
        "duration": 30,
        "start_time": "2023-03-28T11:25:21.582Z"
      },
      {
        "duration": 23,
        "start_time": "2023-03-28T11:28:04.788Z"
      },
      {
        "duration": 22,
        "start_time": "2023-03-28T11:28:24.719Z"
      },
      {
        "duration": 18,
        "start_time": "2023-03-28T11:29:00.680Z"
      },
      {
        "duration": 11,
        "start_time": "2023-03-28T11:35:17.113Z"
      },
      {
        "duration": 10,
        "start_time": "2023-03-28T11:35:31.378Z"
      },
      {
        "duration": 5,
        "start_time": "2023-03-28T11:35:46.389Z"
      },
      {
        "duration": 6,
        "start_time": "2023-03-28T11:36:50.941Z"
      },
      {
        "duration": 944,
        "start_time": "2023-03-28T11:36:57.468Z"
      },
      {
        "duration": 8786,
        "start_time": "2023-03-28T11:37:28.372Z"
      },
      {
        "duration": 9,
        "start_time": "2023-03-28T11:38:22.363Z"
      },
      {
        "duration": 2,
        "start_time": "2023-03-28T11:38:27.053Z"
      },
      {
        "duration": 26494,
        "start_time": "2023-03-28T11:39:01.657Z"
      },
      {
        "duration": 9,
        "start_time": "2023-03-28T11:42:50.169Z"
      },
      {
        "duration": 9,
        "start_time": "2023-03-28T11:43:25.210Z"
      },
      {
        "duration": 3,
        "start_time": "2023-03-28T11:43:30.909Z"
      },
      {
        "duration": 18,
        "start_time": "2023-03-28T11:43:36.081Z"
      },
      {
        "duration": 44243,
        "start_time": "2023-03-28T11:44:54.409Z"
      },
      {
        "duration": 18,
        "start_time": "2023-03-28T11:47:02.844Z"
      },
      {
        "duration": 5,
        "start_time": "2023-03-28T11:48:14.516Z"
      },
      {
        "duration": 17,
        "start_time": "2023-03-28T11:49:51.341Z"
      },
      {
        "duration": 72,
        "start_time": "2023-03-28T11:58:47.192Z"
      },
      {
        "duration": 5,
        "start_time": "2023-03-28T11:59:14.130Z"
      },
      {
        "duration": 7,
        "start_time": "2023-03-28T12:01:09.803Z"
      },
      {
        "duration": 61,
        "start_time": "2023-03-28T12:01:36.698Z"
      }
    ],
    "kernelspec": {
      "display_name": "Python 3 (ipykernel)",
      "language": "python",
      "name": "python3"
    },
    "language_info": {
      "codemirror_mode": {
        "name": "ipython",
        "version": 3
      },
      "file_extension": ".py",
      "mimetype": "text/x-python",
      "name": "python",
      "nbconvert_exporter": "python",
      "pygments_lexer": "ipython3",
      "version": "3.9.5"
    },
    "toc": {
      "base_numbering": 1,
      "nav_menu": {},
      "number_sections": true,
      "sideBar": true,
      "skip_h1_title": true,
      "title_cell": "Содержание",
      "title_sidebar": "Contents",
      "toc_cell": true,
      "toc_position": {},
      "toc_section_display": true,
      "toc_window_display": false
    },
    "colab": {
      "provenance": []
    }
  },
  "nbformat": 4,
  "nbformat_minor": 0
}